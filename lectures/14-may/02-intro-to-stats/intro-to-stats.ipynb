{
 "cells": [
  {
   "cell_type": "code",
   "execution_count": 3,
   "metadata": {
    "hide_input": false,
    "slideshow": {
     "slide_type": "skip"
    }
   },
   "outputs": [],
   "source": [
    "import warnings\n",
    "warnings.simplefilter(\"ignore\")"
   ]
  },
  {
   "cell_type": "markdown",
   "metadata": {
    "hide_input": false,
    "slideshow": {
     "slide_type": "slide"
    }
   },
   "source": [
    "# Statistics in Python: an introduction"
   ]
  },
  {
   "cell_type": "markdown",
   "metadata": {
    "slideshow": {
     "slide_type": "subslide"
    }
   },
   "source": [
    "In part adapted from: \n",
    "* Gaël Varoquaux [Scipy Lecture](https://scipy-lectures.org/packages/statistics/index.html#linear-models-multiple-factors-and-analysis-of-variance)\n",
    "* The fMRI course developed by M. Brett and myself\n",
    "* Many other resources\n"
   ]
  },
  {
   "cell_type": "markdown",
   "metadata": {
    "hide_input": false,
    "slideshow": {
     "slide_type": "subslide"
    }
   },
   "source": [
    "## Requirements\n",
    "1. Standard scientific Python environment (numpy, scipy, matplotlib)\n",
    "2. Pandas\n",
    "3. [Statsmodels](https://www.statsmodels.org/stable/index.html)\n",
    "4. [Seaborn](https://seaborn.pydata.org/)\n",
    "\n",
    "**Disclaimer: Gender questions**\n",
    "\n",
    "   Some of the examples of this tutorial are chosen around gender \n",
    "    questions. The reason is that on such questions controlling the truth\n",
    "    of a claim actually matters to many people. \n"
   ]
  },
  {
   "cell_type": "markdown",
   "metadata": {
    "slideshow": {
     "slide_type": "subslide"
    }
   },
   "source": [
    "## What this will not cover\n",
    "\n",
    "* **Bayesian statistics in Python**:\n",
    "\n",
    "    This chapter does not cover tools for Bayesian statistics.  \n",
    "    Of particular interest for Bayesian modelling is \n",
    "    [PyMC](http://pymc-devs.github.io/pymc),  \n",
    "    which implements a probabilistic programming language in Python.\n",
    "\n",
    "\n",
    "* **Read a statistics book**:\n",
    "   The [Think stats](http://greenteapress.com/wp/think-stats-2e>)  \n",
    "   book is available as free PDF or in print and is a great \n",
    "   introduction to statistics."
   ]
  },
  {
   "cell_type": "markdown",
   "metadata": {
    "slideshow": {
     "slide_type": "slide"
    }
   },
   "source": [
    "Data representation and interaction\n",
    "====================================\n",
    "\n",
    "Data as a table\n",
    "---------------------\n",
    "\n",
    "The setting that we consider for statistical analysis is that of multiple\n",
    "*observations* or *samples* described by a set of different *attributes*\n",
    "or *features*. The data can than be seen as a 2D table, or matrix, with\n",
    "columns giving the different attributes of the data, and rows the\n",
    "observations. For instance, the data contained in\n",
    "[This csv file](https://raw.githubusercontent.com/scipy-lectures/scipy-lecture-notes/master/packages/statistics/examples/brain_size.csv)\n"
   ]
  },
  {
   "cell_type": "markdown",
   "metadata": {
    "slideshow": {
     "slide_type": "subslide"
    }
   },
   "source": [
    "The data in this .csv file looks like:\n",
    "```\n",
    "\"\";\"Gender\";\"FSIQ\";\"VIQ\";\"PIQ\";\"Weight\";\"Height\";\"MRI_Count\"\n",
    "\"1\";\"Female\";133;132;124;\"118\";\"64.5\";816932\n",
    "\"2\";\"Male\";140;150;124;\".\";\"72.5\";1001121\n",
    "\"3\";\"Male\";139;123;150;\"143\";\"73.3\";1038437\n",
    "\"4\";\"Male\";133;129;128;\"172\";\"68.8\";965353\n",
    "\"5\";\"Female\";137;132;134;\"147\";\"65.0\";951545\n",
    "```"
   ]
  },
  {
   "cell_type": "markdown",
   "metadata": {
    "slideshow": {
     "slide_type": "slide"
    }
   },
   "source": [
    "## The pandas data-frame\n",
    "\n",
    "\n",
    "We will store and manipulate this data in a\n",
    "    `pandas.DataFrame`, from the [pandas](http://pandas.pydata.org) module. It is the Python equivalent of\n",
    "    the spreadsheet table. It is different from a 2D ``numpy`` array as it\n",
    "    has named columns, can contain a mixture of different data types by\n",
    "    column, and has elaborate selection and pivotal mechanisms.\n",
    "\n",
    "\n",
    "### Creating dataframes: reading data files or converting arrays\n",
    "\n"
   ]
  },
  {
   "cell_type": "code",
   "execution_count": 4,
   "metadata": {
    "slideshow": {
     "slide_type": "subslide"
    }
   },
   "outputs": [
    {
     "data": {
      "text/html": [
       "<div>\n",
       "<style scoped>\n",
       "    .dataframe tbody tr th:only-of-type {\n",
       "        vertical-align: middle;\n",
       "    }\n",
       "\n",
       "    .dataframe tbody tr th {\n",
       "        vertical-align: top;\n",
       "    }\n",
       "\n",
       "    .dataframe thead th {\n",
       "        text-align: right;\n",
       "    }\n",
       "</style>\n",
       "<table border=\"1\" class=\"dataframe\">\n",
       "  <thead>\n",
       "    <tr style=\"text-align: right;\">\n",
       "      <th></th>\n",
       "      <th>Gender</th>\n",
       "      <th>FSIQ</th>\n",
       "      <th>VIQ</th>\n",
       "      <th>PIQ</th>\n",
       "      <th>Weight</th>\n",
       "      <th>Height</th>\n",
       "      <th>MRI_Count</th>\n",
       "    </tr>\n",
       "  </thead>\n",
       "  <tbody>\n",
       "    <tr>\n",
       "      <th>1</th>\n",
       "      <td>Female</td>\n",
       "      <td>133</td>\n",
       "      <td>132</td>\n",
       "      <td>124</td>\n",
       "      <td>118</td>\n",
       "      <td>64.5</td>\n",
       "      <td>816932</td>\n",
       "    </tr>\n",
       "    <tr>\n",
       "      <th>2</th>\n",
       "      <td>Male</td>\n",
       "      <td>140</td>\n",
       "      <td>150</td>\n",
       "      <td>124</td>\n",
       "      <td>.</td>\n",
       "      <td>72.5</td>\n",
       "      <td>1001121</td>\n",
       "    </tr>\n",
       "    <tr>\n",
       "      <th>3</th>\n",
       "      <td>Male</td>\n",
       "      <td>139</td>\n",
       "      <td>123</td>\n",
       "      <td>150</td>\n",
       "      <td>143</td>\n",
       "      <td>73.3</td>\n",
       "      <td>1038437</td>\n",
       "    </tr>\n",
       "    <tr>\n",
       "      <th>4</th>\n",
       "      <td>Male</td>\n",
       "      <td>133</td>\n",
       "      <td>129</td>\n",
       "      <td>128</td>\n",
       "      <td>172</td>\n",
       "      <td>68.8</td>\n",
       "      <td>965353</td>\n",
       "    </tr>\n",
       "    <tr>\n",
       "      <th>5</th>\n",
       "      <td>Female</td>\n",
       "      <td>137</td>\n",
       "      <td>132</td>\n",
       "      <td>134</td>\n",
       "      <td>147</td>\n",
       "      <td>65.0</td>\n",
       "      <td>951545</td>\n",
       "    </tr>\n",
       "  </tbody>\n",
       "</table>\n",
       "</div>"
      ],
      "text/plain": [
       "   Gender  FSIQ  VIQ  PIQ Weight Height  MRI_Count\n",
       "1  Female   133  132  124    118   64.5     816932\n",
       "2    Male   140  150  124      .   72.5    1001121\n",
       "3    Male   139  123  150    143   73.3    1038437\n",
       "4    Male   133  129  128    172   68.8     965353\n",
       "5  Female   137  132  134    147   65.0     951545"
      ]
     },
     "execution_count": 4,
     "metadata": {},
     "output_type": "execute_result"
    }
   ],
   "source": [
    "import pandas\n",
    "\n",
    "csvfile = ('https://raw.githubusercontent.com/scipy-lectures/'\n",
    "          'scipy-lecture-notes/master/packages/statistics/examples/brain_size.csv')\n",
    "\n",
    "data = pandas.read_csv(csvfile, sep=';', index_col=0)\n",
    "\n",
    "data.head()"
   ]
  },
  {
   "cell_type": "code",
   "execution_count": 5,
   "metadata": {
    "slideshow": {
     "slide_type": "subslide"
    }
   },
   "outputs": [
    {
     "name": "stdout",
     "output_type": "stream",
     "text": [
      "What type is data ? :  <class 'pandas.core.frame.DataFrame'>\n",
      "It stores values in a numpy array: <class 'numpy.ndarray'>\n"
     ]
    },
    {
     "data": {
      "text/plain": [
       "array([['Female', 133, 132, 124, '118', '64.5', 816932],\n",
       "       ['Male', 140, 150, 124, '.', '72.5', 1001121],\n",
       "       ['Male', 139, 123, 150, '143', '73.3', 1038437],\n",
       "       ['Male', 133, 129, 128, '172', '68.8', 965353],\n",
       "       ['Female', 137, 132, 134, '147', '65.0', 951545]], dtype=object)"
      ]
     },
     "execution_count": 5,
     "metadata": {},
     "output_type": "execute_result"
    }
   ],
   "source": [
    "print('What type is data ? : ', type(data))\n",
    "print(\"It stores values in a numpy array:\", type(data.values))\n",
    "data.values[:5]"
   ]
  },
  {
   "cell_type": "markdown",
   "metadata": {
    "slideshow": {
     "slide_type": "subslide"
    }
   },
   "source": [
    "### warning: Missing values\n",
    "\n",
    "\n",
    "The weight of the second individual is missing in the CSV file. In this\n",
    "  particular file, missing values are represented by \"`.`\". If we don't specify\n",
    "  the missing value (NA = not available) marker, pandas will not recognize this\n",
    "  and we will not be able to do statistical analysis.\n"
   ]
  },
  {
   "cell_type": "code",
   "execution_count": 6,
   "metadata": {
    "slideshow": {
     "slide_type": "subslide"
    }
   },
   "outputs": [
    {
     "data": {
      "text/html": [
       "<div>\n",
       "<style scoped>\n",
       "    .dataframe tbody tr th:only-of-type {\n",
       "        vertical-align: middle;\n",
       "    }\n",
       "\n",
       "    .dataframe tbody tr th {\n",
       "        vertical-align: top;\n",
       "    }\n",
       "\n",
       "    .dataframe thead th {\n",
       "        text-align: right;\n",
       "    }\n",
       "</style>\n",
       "<table border=\"1\" class=\"dataframe\">\n",
       "  <thead>\n",
       "    <tr style=\"text-align: right;\">\n",
       "      <th></th>\n",
       "      <th>Unnamed: 0</th>\n",
       "      <th>Gender</th>\n",
       "      <th>FSIQ</th>\n",
       "      <th>VIQ</th>\n",
       "      <th>PIQ</th>\n",
       "      <th>Weight</th>\n",
       "      <th>Height</th>\n",
       "      <th>MRI_Count</th>\n",
       "    </tr>\n",
       "  </thead>\n",
       "  <tbody>\n",
       "    <tr>\n",
       "      <th>0</th>\n",
       "      <td>1</td>\n",
       "      <td>Female</td>\n",
       "      <td>133</td>\n",
       "      <td>132</td>\n",
       "      <td>124</td>\n",
       "      <td>118.0</td>\n",
       "      <td>64.5</td>\n",
       "      <td>816932</td>\n",
       "    </tr>\n",
       "    <tr>\n",
       "      <th>1</th>\n",
       "      <td>2</td>\n",
       "      <td>Male</td>\n",
       "      <td>140</td>\n",
       "      <td>150</td>\n",
       "      <td>124</td>\n",
       "      <td>NaN</td>\n",
       "      <td>72.5</td>\n",
       "      <td>1001121</td>\n",
       "    </tr>\n",
       "    <tr>\n",
       "      <th>2</th>\n",
       "      <td>3</td>\n",
       "      <td>Male</td>\n",
       "      <td>139</td>\n",
       "      <td>123</td>\n",
       "      <td>150</td>\n",
       "      <td>143.0</td>\n",
       "      <td>73.3</td>\n",
       "      <td>1038437</td>\n",
       "    </tr>\n",
       "  </tbody>\n",
       "</table>\n",
       "</div>"
      ],
      "text/plain": [
       "   Unnamed: 0  Gender  FSIQ  VIQ  PIQ  Weight  Height  MRI_Count\n",
       "0           1  Female   133  132  124   118.0    64.5     816932\n",
       "1           2    Male   140  150  124     NaN    72.5    1001121\n",
       "2           3    Male   139  123  150   143.0    73.3    1038437"
      ]
     },
     "execution_count": 6,
     "metadata": {},
     "output_type": "execute_result"
    }
   ],
   "source": [
    "data = pandas.read_csv(csvfile, sep=';', na_values=\".\")\n",
    "data.head(3) #.dropna()"
   ]
  },
  {
   "cell_type": "markdown",
   "metadata": {
    "slideshow": {
     "slide_type": "subslide"
    }
   },
   "source": [
    "## Creating from arrays\n",
    "\n",
    "A `pandas.DataFrame` can also be seen as a dictionary of 1D 'series', eg arrays or lists. If we have 3\n",
    "``numpy`` arrays:"
   ]
  },
  {
   "cell_type": "code",
   "execution_count": 7,
   "metadata": {
    "lines_to_next_cell": 2,
    "slideshow": {
     "slide_type": "subslide"
    }
   },
   "outputs": [
    {
     "data": {
      "text/html": [
       "<div>\n",
       "<style scoped>\n",
       "    .dataframe tbody tr th:only-of-type {\n",
       "        vertical-align: middle;\n",
       "    }\n",
       "\n",
       "    .dataframe tbody tr th {\n",
       "        vertical-align: top;\n",
       "    }\n",
       "\n",
       "    .dataframe thead th {\n",
       "        text-align: right;\n",
       "    }\n",
       "</style>\n",
       "<table border=\"1\" class=\"dataframe\">\n",
       "  <thead>\n",
       "    <tr style=\"text-align: right;\">\n",
       "      <th></th>\n",
       "      <th>t</th>\n",
       "      <th>sin</th>\n",
       "      <th>cos</th>\n",
       "    </tr>\n",
       "  </thead>\n",
       "  <tbody>\n",
       "    <tr>\n",
       "      <th>0</th>\n",
       "      <td>-6.000000</td>\n",
       "      <td>0.279415</td>\n",
       "      <td>0.960170</td>\n",
       "    </tr>\n",
       "    <tr>\n",
       "      <th>1</th>\n",
       "      <td>-5.368421</td>\n",
       "      <td>0.792419</td>\n",
       "      <td>0.609977</td>\n",
       "    </tr>\n",
       "    <tr>\n",
       "      <th>2</th>\n",
       "      <td>-4.736842</td>\n",
       "      <td>0.999701</td>\n",
       "      <td>0.024451</td>\n",
       "    </tr>\n",
       "    <tr>\n",
       "      <th>3</th>\n",
       "      <td>-4.105263</td>\n",
       "      <td>0.821291</td>\n",
       "      <td>-0.570509</td>\n",
       "    </tr>\n",
       "  </tbody>\n",
       "</table>\n",
       "</div>"
      ],
      "text/plain": [
       "          t       sin       cos\n",
       "0 -6.000000  0.279415  0.960170\n",
       "1 -5.368421  0.792419  0.609977\n",
       "2 -4.736842  0.999701  0.024451\n",
       "3 -4.105263  0.821291 -0.570509"
      ]
     },
     "execution_count": 7,
     "metadata": {},
     "output_type": "execute_result"
    }
   ],
   "source": [
    "import numpy as np\n",
    "t = np.linspace(-6, 6, 20)\n",
    "sin_t = np.sin(t)\n",
    "cos_t = np.cos(t)\n",
    "\n",
    "# We can expose them as a :class:`pandas.DataFrame`::\n",
    "pandas.DataFrame({'t': t, 'sin': sin_t, 'cos': cos_t}).head(4)\n",
    "\n",
    "# Question : what is the first argument ? "
   ]
  },
  {
   "cell_type": "markdown",
   "metadata": {
    "slideshow": {
     "slide_type": "slide"
    }
   },
   "source": [
    "## Manipulating data\n"
   ]
  },
  {
   "cell_type": "code",
   "execution_count": 8,
   "metadata": {
    "slideshow": {
     "slide_type": "subslide"
    }
   },
   "outputs": [
    {
     "name": "stdout",
     "output_type": "stream",
     "text": [
      "data.shape:  (40, 8)\n",
      "data.columns:  Index(['Unnamed: 0', 'Gender', 'FSIQ', 'VIQ', 'PIQ', 'Weight', 'Height',\n",
      "       'MRI_Count'],\n",
      "      dtype='object')\n",
      "\n",
      "Female VIQ mean:  109.45\n"
     ]
    },
    {
     "data": {
      "text/html": [
       "<div>\n",
       "<style scoped>\n",
       "    .dataframe tbody tr th:only-of-type {\n",
       "        vertical-align: middle;\n",
       "    }\n",
       "\n",
       "    .dataframe tbody tr th {\n",
       "        vertical-align: top;\n",
       "    }\n",
       "\n",
       "    .dataframe thead th {\n",
       "        text-align: right;\n",
       "    }\n",
       "</style>\n",
       "<table border=\"1\" class=\"dataframe\">\n",
       "  <thead>\n",
       "    <tr style=\"text-align: right;\">\n",
       "      <th></th>\n",
       "      <th>Unnamed: 0</th>\n",
       "      <th>FSIQ</th>\n",
       "      <th>VIQ</th>\n",
       "      <th>PIQ</th>\n",
       "      <th>Weight</th>\n",
       "      <th>Height</th>\n",
       "      <th>MRI_Count</th>\n",
       "    </tr>\n",
       "  </thead>\n",
       "  <tbody>\n",
       "    <tr>\n",
       "      <th>count</th>\n",
       "      <td>40.000000</td>\n",
       "      <td>40.000000</td>\n",
       "      <td>40.000000</td>\n",
       "      <td>40.00000</td>\n",
       "      <td>38.000000</td>\n",
       "      <td>39.000000</td>\n",
       "      <td>4.000000e+01</td>\n",
       "    </tr>\n",
       "    <tr>\n",
       "      <th>mean</th>\n",
       "      <td>20.500000</td>\n",
       "      <td>113.450000</td>\n",
       "      <td>112.350000</td>\n",
       "      <td>111.02500</td>\n",
       "      <td>151.052632</td>\n",
       "      <td>68.525641</td>\n",
       "      <td>9.087550e+05</td>\n",
       "    </tr>\n",
       "    <tr>\n",
       "      <th>std</th>\n",
       "      <td>11.690452</td>\n",
       "      <td>24.082071</td>\n",
       "      <td>23.616107</td>\n",
       "      <td>22.47105</td>\n",
       "      <td>23.478509</td>\n",
       "      <td>3.994649</td>\n",
       "      <td>7.228205e+04</td>\n",
       "    </tr>\n",
       "    <tr>\n",
       "      <th>min</th>\n",
       "      <td>1.000000</td>\n",
       "      <td>77.000000</td>\n",
       "      <td>71.000000</td>\n",
       "      <td>72.00000</td>\n",
       "      <td>106.000000</td>\n",
       "      <td>62.000000</td>\n",
       "      <td>7.906190e+05</td>\n",
       "    </tr>\n",
       "    <tr>\n",
       "      <th>25%</th>\n",
       "      <td>10.750000</td>\n",
       "      <td>89.750000</td>\n",
       "      <td>90.000000</td>\n",
       "      <td>88.25000</td>\n",
       "      <td>135.250000</td>\n",
       "      <td>66.000000</td>\n",
       "      <td>8.559185e+05</td>\n",
       "    </tr>\n",
       "    <tr>\n",
       "      <th>50%</th>\n",
       "      <td>20.500000</td>\n",
       "      <td>116.500000</td>\n",
       "      <td>113.000000</td>\n",
       "      <td>115.00000</td>\n",
       "      <td>146.500000</td>\n",
       "      <td>68.000000</td>\n",
       "      <td>9.053990e+05</td>\n",
       "    </tr>\n",
       "    <tr>\n",
       "      <th>75%</th>\n",
       "      <td>30.250000</td>\n",
       "      <td>135.500000</td>\n",
       "      <td>129.750000</td>\n",
       "      <td>128.00000</td>\n",
       "      <td>172.000000</td>\n",
       "      <td>70.500000</td>\n",
       "      <td>9.500780e+05</td>\n",
       "    </tr>\n",
       "    <tr>\n",
       "      <th>max</th>\n",
       "      <td>40.000000</td>\n",
       "      <td>144.000000</td>\n",
       "      <td>150.000000</td>\n",
       "      <td>150.00000</td>\n",
       "      <td>192.000000</td>\n",
       "      <td>77.000000</td>\n",
       "      <td>1.079549e+06</td>\n",
       "    </tr>\n",
       "  </tbody>\n",
       "</table>\n",
       "</div>"
      ],
      "text/plain": [
       "       Unnamed: 0        FSIQ         VIQ        PIQ      Weight     Height  \\\n",
       "count   40.000000   40.000000   40.000000   40.00000   38.000000  39.000000   \n",
       "mean    20.500000  113.450000  112.350000  111.02500  151.052632  68.525641   \n",
       "std     11.690452   24.082071   23.616107   22.47105   23.478509   3.994649   \n",
       "min      1.000000   77.000000   71.000000   72.00000  106.000000  62.000000   \n",
       "25%     10.750000   89.750000   90.000000   88.25000  135.250000  66.000000   \n",
       "50%     20.500000  116.500000  113.000000  115.00000  146.500000  68.000000   \n",
       "75%     30.250000  135.500000  129.750000  128.00000  172.000000  70.500000   \n",
       "max     40.000000  144.000000  150.000000  150.00000  192.000000  77.000000   \n",
       "\n",
       "          MRI_Count  \n",
       "count  4.000000e+01  \n",
       "mean   9.087550e+05  \n",
       "std    7.228205e+04  \n",
       "min    7.906190e+05  \n",
       "25%    8.559185e+05  \n",
       "50%    9.053990e+05  \n",
       "75%    9.500780e+05  \n",
       "max    1.079549e+06  "
      ]
     },
     "execution_count": 8,
     "metadata": {},
     "output_type": "execute_result"
    }
   ],
   "source": [
    "print('data.shape: ', data.shape)\n",
    "print('data.columns: ',data.columns)  # It has columns\n",
    "print('\\nFemale VIQ mean: ', data[data['Gender'] == 'Female']['VIQ'].mean())\n",
    "\n",
    "data.describe()"
   ]
  },
  {
   "cell_type": "code",
   "execution_count": 9,
   "metadata": {
    "slideshow": {
     "slide_type": "subslide"
    }
   },
   "outputs": [],
   "source": [
    "# Question: Will we get the same results with : \n",
    "# `data.dropna().describe()` ?"
   ]
  },
  {
   "cell_type": "code",
   "execution_count": 10,
   "metadata": {
    "lines_to_next_cell": 2,
    "slideshow": {
     "slide_type": "subslide"
    }
   },
   "outputs": [
    {
     "name": "stdout",
     "output_type": "stream",
     "text": [
      "('Female', 109.45)\n",
      "('Male', 115.25)\n"
     ]
    }
   ],
   "source": [
    "# \"Group by\"\n",
    "groupby_gender = data.groupby('Gender')\n",
    "for gender, value in groupby_gender['VIQ']:\n",
    "    print((gender, value.mean()))"
   ]
  },
  {
   "cell_type": "code",
   "execution_count": 11,
   "metadata": {
    "slideshow": {
     "slide_type": "subslide"
    }
   },
   "outputs": [
    {
     "data": {
      "text/plain": [
       "pandas.core.groupby.groupby.DataFrameGroupBy"
      ]
     },
     "execution_count": 11,
     "metadata": {},
     "output_type": "execute_result"
    }
   ],
   "source": [
    "type(groupby_gender)"
   ]
  },
  {
   "cell_type": "code",
   "execution_count": 12,
   "metadata": {
    "slideshow": {
     "slide_type": "subslide"
    }
   },
   "outputs": [],
   "source": [
    "data.loc[data['Gender'] == 'Female', 'VIQ'] += 1"
   ]
  },
  {
   "cell_type": "code",
   "execution_count": 13,
   "metadata": {
    "slideshow": {
     "slide_type": "subslide"
    }
   },
   "outputs": [
    {
     "name": "stdout",
     "output_type": "stream",
     "text": [
      "('Female', 110.45)\n",
      "('Male', 115.25)\n"
     ]
    }
   ],
   "source": [
    "for gender, value in groupby_gender['VIQ']:\n",
    "    print((gender, value.mean()))\n",
    "\n",
    "data['VIQ'] += 1\n",
    "\n",
    "# Question : what if we look at the groupby_gender object ? "
   ]
  },
  {
   "cell_type": "code",
   "execution_count": 14,
   "metadata": {
    "slideshow": {
     "slide_type": "subslide"
    }
   },
   "outputs": [
    {
     "name": "stdout",
     "output_type": "stream",
     "text": [
      "('Female', 111.45)\n",
      "('Male', 116.25)\n"
     ]
    }
   ],
   "source": [
    "for gender, value in groupby_gender['VIQ']:\n",
    "    print((gender, value.mean()))"
   ]
  },
  {
   "cell_type": "markdown",
   "metadata": {
    "slideshow": {
     "slide_type": "subslide"
    }
   },
   "source": [
    "* What is the mean value for VIQ for the full population?\n",
    "* How many males/females were included in this study?\n",
    "\n",
    "  **Hint** use 'tab completion' to find out the methods that can be\n",
    "  called, instead of 'mean' in the above example.\n",
    "\n",
    "* What is the average value of MRI counts expressed in log units, for\n",
    "  males and females?\n"
   ]
  },
  {
   "cell_type": "markdown",
   "metadata": {
    "slideshow": {
     "slide_type": "slide"
    }
   },
   "source": [
    "## Plotting data\n"
   ]
  },
  {
   "cell_type": "code",
   "execution_count": 15,
   "metadata": {
    "lines_to_next_cell": 2,
    "slideshow": {
     "slide_type": "subslide"
    }
   },
   "outputs": [],
   "source": [
    "from pandas import plotting as pdplt\n",
    "pdplt.scatter_matrix(data[['Weight', 'Height', 'MRI_Count']]);"
   ]
  },
  {
   "cell_type": "code",
   "execution_count": 16,
   "metadata": {
    "slideshow": {
     "slide_type": "subslide"
    }
   },
   "outputs": [
    {
     "data": {
      "image/png": "[encoded data removed]",
      "text/plain": [
       "<Figure size 432x288 with 9 Axes>"
      ]
     },
     "metadata": {
      "needs_background": "light"
     },
     "output_type": "display_data"
    }
   ],
   "source": [
    "pdplt.scatter_matrix(data[['PIQ', 'VIQ', 'FSIQ']]);"
   ]
  },
  {
   "cell_type": "markdown",
   "metadata": {
    "slideshow": {
     "slide_type": "subslide"
    }
   },
   "source": [
    "The IQ metrics are bimodal, as if there are 2 sub-populations."
   ]
  },
  {
   "cell_type": "markdown",
   "metadata": {
    "slideshow": {
     "slide_type": "slide"
    }
   },
   "source": [
    "# Hypothesis testing: comparing two groups\n",
    "\n",
    "\n",
    "For simple statistical tests:\n",
    "\n",
    "https://en.wikipedia.org/wiki/Statistical_hypothesis_testing\n",
    "\n",
    "we will use the `scipy.stats` sub-module of [scipy](http://docs.scipy.org/doc/)\n",
    "\n"
   ]
  },
  {
   "cell_type": "code",
   "execution_count": 17,
   "metadata": {
    "slideshow": {
     "slide_type": "subslide"
    }
   },
   "outputs": [],
   "source": [
    "from scipy import stats\n",
    "from scipy import stats as sst"
   ]
  },
  {
   "cell_type": "markdown",
   "metadata": {
    "slideshow": {
     "slide_type": "subslide"
    }
   },
   "source": [
    "Cohen's d effect size : \n",
    "\n",
    "$\\hspace{3cm} d = \\frac{\\mu}{\\sigma}$\n",
    "\n",
    "$\\mu$ the non normalized effect size, $\\sigma$ the standard deviation of the **data**\n",
    "\n",
    "Author report: APOE effect on hippocampal volume has a p value of 6.6311e-10, n=733\n",
    "What is the effect size of APOE on the hippocampal volume ?\n"
   ]
  },
  {
   "cell_type": "code",
   "execution_count": 19,
   "metadata": {
    "lines_to_next_cell": 2,
    "slideshow": {
     "slide_type": "subslide"
    }
   },
   "outputs": [
    {
     "name": "stdout",
     "output_type": "stream",
     "text": [
      "z = 6.064 d = 0.224\n"
     ]
    }
   ],
   "source": [
    "# create a normal(0,1) variable \n",
    "n01 = sst.norm(0,1.)\n",
    "# n01 = sst.t(df=733)\n",
    "\n",
    "z = n01.isf(6.6311e-10)\n",
    "\n",
    "#wat = n01.cdf(6.6311e-10)\n",
    "\n",
    "d = n01.isf(6.6311e-10)/np.sqrt(733)\n",
    "print(\"z = {:4.3f} d = {:4.3f}\".format(z,d))"
   ]
  },
  {
   "cell_type": "code",
   "execution_count": 20,
   "metadata": {},
   "outputs": [
    {
     "data": {
      "text/plain": [
       "array([[-0.87343749,  0.19866176,  1.10709082],\n",
       "       [ 0.86064376,  1.60432105, -1.70504822],\n",
       "       [-1.00520183, -0.21020969,  0.06071348]])"
      ]
     },
     "execution_count": 20,
     "metadata": {},
     "output_type": "execute_result"
    }
   ],
   "source": [
    "n01.rvs(size=(3,3))"
   ]
  },
  {
   "cell_type": "code",
   "execution_count": 21,
   "metadata": {
    "lines_to_next_cell": 2,
    "slideshow": {
     "slide_type": "subslide"
    }
   },
   "outputs": [
    {
     "data": {
      "text/plain": [
       "[Text(0,0.5,'Frequency'), Text(0.5,0,'Uniform Distribution ')]"
      ]
     },
     "execution_count": 21,
     "metadata": {},
     "output_type": "execute_result"
    },
    {
     "data": {
      "image/png": "[encoded data removed]",
      "text/plain": [
       "<Figure size 432x288 with 1 Axes>"
      ]
     },
     "metadata": {
      "needs_background": "light"
     },
     "output_type": "display_data"
    }
   ],
   "source": [
    "# scipy stats has a great number of distribution, all with pdf cdf, sf, isf, etc ...  \n",
    "# but you can also sample from these: \n",
    "n, start, width = 1000, 10, 20\n",
    "unif10_20 = sst.uniform(loc=start,scale=width)\n",
    "data_uniform = unif10_20.rvs(size=(n,))\n",
    "\n",
    "import seaborn as sns\n",
    "ax = sns.distplot(data_uniform,\n",
    "                  bins=50,\n",
    "#                  kde=True,\n",
    "                  color='skyblue',\n",
    "                  hist_kws={\"linewidth\": 15,'alpha':1})\n",
    "ax.set(xlabel='Uniform Distribution ', ylabel='Frequency')"
   ]
  },
  {
   "cell_type": "markdown",
   "metadata": {
    "slideshow": {
     "slide_type": "slide"
    }
   },
   "source": [
    "## Student's t-test: the simplest statistical test\n"
   ]
  },
  {
   "cell_type": "markdown",
   "metadata": {
    "slideshow": {
     "slide_type": "subslide"
    }
   },
   "source": [
    "`scipy.stats.ttest_1samp` tests if the population mean of data is\n",
    "likely to be equal to a given value (technically if observations are\n",
    "drawn from a Gaussian distributions of given population mean). It returns\n",
    "the [T statistic](https://en.wikipedia.org/wiki/Student%27s_t-test),\n",
    "and the [p-value](https://en.wikipedia.org/wiki/P-value) (see the\n",
    "function's help)"
   ]
  },
  {
   "cell_type": "code",
   "execution_count": 22,
   "metadata": {
    "slideshow": {
     "slide_type": "subslide"
    }
   },
   "outputs": [
    {
     "data": {
      "text/plain": [
       "Ttest_1sampResult(statistic=30.5643761507487, pvalue=7.3798528645483e-29)"
      ]
     },
     "execution_count": 22,
     "metadata": {},
     "output_type": "execute_result"
    }
   ],
   "source": [
    "stats.ttest_1samp(data['VIQ'], 0)"
   ]
  },
  {
   "cell_type": "markdown",
   "metadata": {
    "slideshow": {
     "slide_type": "subslide"
    }
   },
   "source": [
    "### Definition of a p-value\n",
    "\n",
    "\n",
    "Probability of observing a statistic equal to the one seen \n",
    "in the data, or one that is more extreme, when the null \n",
    "hypothesis is true\n"
   ]
  },
  {
   "cell_type": "markdown",
   "metadata": {
    "slideshow": {
     "slide_type": "subslide"
    }
   },
   "source": [
    "Requires:\n",
    "* Knowledge of the null hypothesis\n",
    "* Choice of a statistic\n",
    "* Concept of repeating the whole study in the same way\n",
    "    - Same study design\n",
    "    - Same sampling scheme\n",
    "    - Same definition of the statistic"
   ]
  },
  {
   "cell_type": "markdown",
   "metadata": {
    "slideshow": {
     "slide_type": "subslide"
    }
   },
   "source": [
    "### 2-sample t-test: testing for difference across populations\n",
    "\n",
    "We have seen above that the mean VIQ in the  male and  \n",
    "female populations were different. To test if this is  \n",
    "significant, we do a 2-sample t-test with  \n",
    "\n",
    "`scipy.stats.ttest_ind`\n",
    "\n"
   ]
  },
  {
   "cell_type": "code",
   "execution_count": 25,
   "metadata": {
    "lines_to_next_cell": 2,
    "slideshow": {
     "slide_type": "subslide"
    }
   },
   "outputs": [
    {
     "data": {
      "text/plain": [
       "Ttest_indResult(statistic=-0.6394064874434492, pvalue=0.5263946181763066)"
      ]
     },
     "execution_count": 25,
     "metadata": {},
     "output_type": "execute_result"
    }
   ],
   "source": [
    "np.set_printoptions(precision=4) # he non !\n",
    "\n",
    "female_viq = data[data['Gender'] == 'Female']['VIQ']\n",
    "male_viq = data[data['Gender'] == 'Male']['VIQ']\n",
    "stats.ttest_ind(female_viq, male_viq)   \n",
    "\n",
    "#stats.ttest_ind?"
   ]
  },
  {
   "cell_type": "markdown",
   "metadata": {
    "slideshow": {
     "slide_type": "subslide"
    }
   },
   "source": [
    "### Paired tests: repeated measurements on the same individuals\n",
    "\n",
    "PIQ, VIQ, and FSIQ give 3 measures of IQ.  \n",
    "Let us test if FISQ and PIQ are significantly  \n",
    "different. We can use a 2 sample test\n"
   ]
  },
  {
   "cell_type": "code",
   "execution_count": 27,
   "metadata": {
    "lines_to_next_cell": 2,
    "slideshow": {
     "slide_type": "subslide"
    }
   },
   "outputs": [
    {
     "data": {
      "text/plain": [
       "{'Female': Int64Index([0, 4, 5, 6, 7, 10, 13, 14, 15, 16, 18, 22, 24, 26, 28, 29, 30, 34,\n",
       "             35, 37],\n",
       "            dtype='int64'),\n",
       " 'Male': Int64Index([1, 2, 3, 8, 9, 11, 12, 17, 19, 20, 21, 23, 25, 27, 31, 32, 33, 36,\n",
       "             38, 39],\n",
       "            dtype='int64')}"
      ]
     },
     "execution_count": 27,
     "metadata": {},
     "output_type": "execute_result"
    },
    {
     "data": {
      "image/png": "[encoded data removed]",
      "text/plain": [
       "<Figure size 432x288 with 2 Axes>"
      ]
     },
     "metadata": {
      "needs_background": "light"
     },
     "output_type": "display_data"
    }
   ],
   "source": [
    "# Box plots of different columns for each gender\n",
    "groupby_gender.boxplot(column=['FSIQ', 'VIQ', 'PIQ'])\n",
    "groupby_gender.groups"
   ]
  },
  {
   "cell_type": "code",
   "execution_count": 29,
   "metadata": {
    "slideshow": {
     "slide_type": "subslide"
    }
   },
   "outputs": [
    {
     "data": {
      "text/plain": [
       "Ttest_indResult(statistic=0.465637596380964, pvalue=0.6427725009414841)"
      ]
     },
     "execution_count": 29,
     "metadata": {},
     "output_type": "execute_result"
    }
   ],
   "source": [
    "stats.ttest_ind(data['FSIQ'], data['PIQ'])\n",
    "\n",
    "# Can you see a problem with this approach ?"
   ]
  },
  {
   "cell_type": "markdown",
   "metadata": {
    "slideshow": {
     "slide_type": "subslide"
    }
   },
   "source": [
    "The problem with this approach is that it forgets that there are links between  \n",
    "observations: FSIQ and PIQ are measured on the same individuals. Thus the  \n",
    "variance due to inter-subject variability is confounding, and can be removed,  \n",
    "using a \"paired test\", or [\"repeated measures test\"](https://en.wikipedia.org/wiki/Repeated_measures_design)  "
   ]
  },
  {
   "cell_type": "code",
   "execution_count": 30,
   "metadata": {
    "slideshow": {
     "slide_type": "subslide"
    }
   },
   "outputs": [
    {
     "data": {
      "text/plain": [
       "Ttest_relResult(statistic=1.7842019405859857, pvalue=0.08217263818364236)"
      ]
     },
     "execution_count": 30,
     "metadata": {},
     "output_type": "execute_result"
    }
   ],
   "source": [
    "# considering that FSIQ and PIQ come from the same participants:\n",
    "\n",
    "stats.ttest_rel(data['FSIQ'], data['PIQ'])"
   ]
  },
  {
   "cell_type": "code",
   "execution_count": 33,
   "metadata": {
    "slideshow": {
     "slide_type": "subslide"
    }
   },
   "outputs": [
    {
     "data": {
      "text/plain": [
       "Ttest_1sampResult(statistic=1.7842019405859857, pvalue=0.08217263818364236)"
      ]
     },
     "execution_count": 33,
     "metadata": {},
     "output_type": "execute_result"
    }
   ],
   "source": [
    "# This is equivalent to a 1-sample test on the difference:\n",
    "\n",
    "stats.ttest_1samp(data['FSIQ'] - data['PIQ'], 0)\n",
    "\n",
    "# stats.ttest_1samp?"
   ]
  },
  {
   "cell_type": "markdown",
   "metadata": {
    "slideshow": {
     "slide_type": "subslide"
    }
   },
   "source": [
    "T-tests assume Gaussian errors.  \n",
    "\n",
    "We can use a [Wilcoxon signed-rank test](https://en.wikipedia.org/wiki/Wilcoxon_signed-rank_test) that relaxes this assumption:\n"
   ]
  },
  {
   "cell_type": "code",
   "execution_count": 34,
   "metadata": {
    "slideshow": {
     "slide_type": "subslide"
    }
   },
   "outputs": [
    {
     "data": {
      "text/plain": [
       "WilcoxonResult(statistic=274.5, pvalue=0.10659492713506856)"
      ]
     },
     "execution_count": 34,
     "metadata": {},
     "output_type": "execute_result"
    }
   ],
   "source": [
    "stats.wilcoxon(data['FSIQ'], data['PIQ'])"
   ]
  },
  {
   "cell_type": "markdown",
   "metadata": {
    "slideshow": {
     "slide_type": "subslide"
    }
   },
   "source": [
    "### Exercise\n",
    "\n",
    "* Test the difference between weights in males and females.\n",
    "* Use non parametric statistics to test the difference  \n",
    "  between VIQ in males and females."
   ]
  },
  {
   "cell_type": "code",
   "execution_count": 38,
   "metadata": {
    "slideshow": {
     "slide_type": "subslide"
    }
   },
   "outputs": [
    {
     "name": "stdout",
     "output_type": "stream",
     "text": [
      "                            OLS Regression Results                            \n",
      "==============================================================================\n",
      "Dep. Variable:                    VIQ   R-squared:                       0.246\n",
      "Model:                            OLS   Adj. R-squared:                  0.181\n",
      "Method:                 Least Squares   F-statistic:                     3.809\n",
      "Date:                Wed, 13 May 2020   Prob (F-statistic):             0.0184\n",
      "Time:                        19:05:44   Log-Likelihood:                -172.34\n",
      "No. Observations:                  39   AIC:                             352.7\n",
      "Df Residuals:                      35   BIC:                             359.3\n",
      "Df Model:                           3                                         \n",
      "Covariance Type:            nonrobust                                         \n",
      "==================================================================================\n",
      "                     coef    std err          t      P>|t|      [0.025      0.975]\n",
      "----------------------------------------------------------------------------------\n",
      "Intercept        166.6258     88.824      1.876      0.069     -13.696     346.948\n",
      "Gender[T.Male]     8.8524     10.710      0.827      0.414     -12.890      30.595\n",
      "MRI_Count          0.0002   6.46e-05      2.615      0.013    3.78e-05       0.000\n",
      "Height            -3.0837      1.276     -2.417      0.021      -5.674      -0.494\n",
      "==============================================================================\n",
      "Omnibus:                        7.373   Durbin-Watson:                   2.109\n",
      "Prob(Omnibus):                  0.025   Jarque-Bera (JB):                2.252\n",
      "Skew:                           0.005   Prob(JB):                        0.324\n",
      "Kurtosis:                       1.823   Cond. No.                     2.40e+07\n",
      "==============================================================================\n",
      "\n",
      "Warnings:\n",
      "[1] Standard Errors assume that the covariance matrix of the errors is correctly specified.\n",
      "[2] The condition number is large, 2.4e+07. This might indicate that there are\n",
      "strong multicollinearity or other numerical problems.\n",
      "<F test: F=array([[0.6832]]), p=0.4140878441244694, df_denom=35, df_num=1>\n"
     ]
    },
    {
     "data": {
      "image/png": "[encoded data removed]",
      "text/plain": [
       "<Figure size 432x288 with 9 Axes>"
      ]
     },
     "metadata": {
      "needs_background": "light"
     },
     "output_type": "display_data"
    }
   ],
   "source": [
    "import pandas\n",
    "from statsmodels.formula.api import ols\n",
    "\n",
    "data = pandas.read_csv(csvfile, sep=';', na_values='.')\n",
    "\n",
    "model = ols('VIQ ~ Gender + MRI_Count + Height', data).fit()\n",
    "print(model.summary())\n",
    "\n",
    "# Here, we don't need to define a contrast, as we are testing a single\n",
    "# coefficient of our model, and not a combination of coefficients.\n",
    "# However, defining a contrast, which would then be a 'unit contrast',\n",
    "# will give us the same results\n",
    "print(model.f_test([0, 1, 0, 0]))\n",
    "\n",
    "###############################################################################\n",
    "# Here we plot a scatter matrix to get intuitions on our results.\n",
    "# This goes beyond what was asked in the exercise\n",
    "\n",
    "# This plotting is useful to get an intuitions on the relationships between\n",
    "# our different variables\n",
    "\n",
    "from pandas.tools import plotting\n",
    "import matplotlib.pyplot as plt\n",
    "\n",
    "# Fill in the missing values for Height for plotting\n",
    "data['Height'].fillna(method='pad', inplace=True)\n",
    "\n",
    "# The parameter 'c' is passed to plt.scatter and will control the color\n",
    "# The same holds for parameters 'marker', 'alpha' and 'cmap', that\n",
    "# control respectively the type of marker used, their transparency and\n",
    "# the colormap\n",
    "plotting.scatter_matrix(data[['VIQ', 'MRI_Count', 'Height']],\n",
    "                        c=(data['Gender'] == 'Female'), marker='o',\n",
    "                        alpha=1, cmap='winter')\n",
    "\n",
    "fig = plt.gcf()\n",
    "fig.suptitle(\"blue: male, green: female\", size=13)\n",
    "\n",
    "plt.show()"
   ]
  },
  {
   "cell_type": "markdown",
   "metadata": {
    "slideshow": {
     "slide_type": "slide"
    }
   },
   "source": [
    "# Linear models, multiple factors, and analysis of variance\n",
    "\n",
    "## \"formulas\" to specify statistical models in Python\n",
    "\n",
    "### A simple linear regression\n"
   ]
  },
  {
   "cell_type": "code",
   "execution_count": 39,
   "metadata": {
    "slideshow": {
     "slide_type": "subslide"
    }
   },
   "outputs": [
    {
     "name": "stdout",
     "output_type": "stream",
     "text": [
      "                            OLS Regression Results                            \n",
      "==============================================================================\n",
      "Dep. Variable:                      y   R-squared:                       0.804\n",
      "Model:                            OLS   Adj. R-squared:                  0.794\n",
      "Method:                 Least Squares   F-statistic:                     74.03\n",
      "Date:                Wed, 13 May 2020   Prob (F-statistic):           8.56e-08\n",
      "Time:                        19:07:43   Log-Likelihood:                -57.988\n",
      "No. Observations:                  20   AIC:                             120.0\n",
      "Df Residuals:                      18   BIC:                             122.0\n",
      "Df Model:                           1                                         \n",
      "Covariance Type:            nonrobust                                         \n",
      "==============================================================================\n",
      "                 coef    std err          t      P>|t|      [0.025      0.975]\n",
      "------------------------------------------------------------------------------\n",
      "Intercept     -5.5335      1.036     -5.342      0.000      -7.710      -3.357\n",
      "x              2.9369      0.341      8.604      0.000       2.220       3.654\n",
      "==============================================================================\n",
      "Omnibus:                        0.100   Durbin-Watson:                   2.956\n",
      "Prob(Omnibus):                  0.951   Jarque-Bera (JB):                0.322\n",
      "Skew:                          -0.058   Prob(JB):                        0.851\n",
      "Kurtosis:                       2.390   Cond. No.                         3.03\n",
      "==============================================================================\n",
      "\n",
      "Warnings:\n",
      "[1] Standard Errors assume that the covariance matrix of the errors is correctly specified.\n"
     ]
    },
    {
     "data": {
      "image/png": "[encoded data removed]",
      "text/plain": [
       "<Figure size 360x288 with 1 Axes>"
      ]
     },
     "metadata": {
      "needs_background": "light"
     },
     "output_type": "display_data"
    }
   ],
   "source": [
    "import matplotlib.pyplot as plt\n",
    "from statsmodels.formula.api import ols\n",
    "from statsmodels.stats.anova import anova_lm\n",
    "\n",
    "# Generate and show the data\n",
    "x = np.linspace(-5, 5, 20)\n",
    "\n",
    "# To get reproducible values, provide a seed value\n",
    "np.random.seed(1)\n",
    "\n",
    "y = -5 + 3*x + 4 * np.random.normal(size=x.shape)\n",
    "\n",
    "# Plot the data\n",
    "plt.figure(figsize=(5, 4))\n",
    "plt.plot(x, y, 'o')\n",
    "\n",
    "#############################################################\n",
    "# Multilinear regression model, calculating fit, P-values,\n",
    "# confidence intervals etc.\n",
    "\n",
    "# Convert the data into a Pandas DataFrame to use the formulas \n",
    "# framework in statsmodels\n",
    "data = pandas.DataFrame({'x': x, 'y': y})\n",
    "\n",
    "# Fit the model\n",
    "model = ols(\"y ~ x\", data).fit()\n",
    "\n",
    "# Print the summary\n",
    "print(model.summary())\n",
    "\n",
    "# Peform analysis of variance on fitted linear model\n",
    "# anova_results = anova_lm(model)\n",
    "\n",
    "#print('\\nANOVA results')\n",
    "#print(anova_results)"
   ]
  },
  {
   "cell_type": "markdown",
   "metadata": {
    "slideshow": {
     "slide_type": "subslide"
    }
   },
   "source": [
    "Statsmodels uses a statistical terminology: the `y` variable in\n",
    "statsmodels is called 'endogenous' while the `x` variable is called\n",
    "exogenous.  This is discussed in more detail in  \n",
    "http://statsmodels.sourceforge.net/devel/endog_exog.html\n",
    "\n",
    "To simplify, `y` (endogenous) is the value you are trying to predict,\n",
    "while `x` (exogenous) represents the features you are using to make\n",
    "the prediction.\n"
   ]
  },
  {
   "cell_type": "markdown",
   "metadata": {
    "slideshow": {
     "slide_type": "subslide"
    }
   },
   "source": [
    "Retrieve the estimated parameters from the model above. \n",
    "\n",
    "\n",
    "   **Hint**: use tab-completion to find the relevent attribute.\n"
   ]
  },
  {
   "cell_type": "markdown",
   "metadata": {
    "slideshow": {
     "slide_type": "slide"
    }
   },
   "source": [
    "## Categorical variables: comparing groups or multiple categories\n"
   ]
  },
  {
   "cell_type": "code",
   "execution_count": 25,
   "metadata": {
    "slideshow": {
     "slide_type": "subslide"
    }
   },
   "outputs": [],
   "source": [
    "# remember, we modified \"data\" !\n",
    "data = pandas.read_csv(csvfile, sep=';', na_values=\".\")"
   ]
  },
  {
   "cell_type": "code",
   "execution_count": 26,
   "metadata": {
    "slideshow": {
     "slide_type": "subslide"
    }
   },
   "outputs": [
    {
     "name": "stdout",
     "output_type": "stream",
     "text": [
      "                            OLS Regression Results                            \n",
      "==============================================================================\n",
      "Dep. Variable:                    VIQ   R-squared:                       0.015\n",
      "Model:                            OLS   Adj. R-squared:                 -0.010\n",
      "Method:                 Least Squares   F-statistic:                    0.5969\n",
      "Date:                Tue, 12 May 2020   Prob (F-statistic):              0.445\n",
      "Time:                        20:02:52   Log-Likelihood:                -182.42\n",
      "No. Observations:                  40   AIC:                             368.8\n",
      "Df Residuals:                      38   BIC:                             372.2\n",
      "Df Model:                           1                                         \n",
      "Covariance Type:            nonrobust                                         \n",
      "==================================================================================\n",
      "                     coef    std err          t      P>|t|      [0.025      0.975]\n",
      "----------------------------------------------------------------------------------\n",
      "Intercept        109.4500      5.308     20.619      0.000      98.704     120.196\n",
      "Gender[T.Male]     5.8000      7.507      0.773      0.445      -9.397      20.997\n",
      "==============================================================================\n",
      "Omnibus:                       26.188   Durbin-Watson:                   1.709\n",
      "Prob(Omnibus):                  0.000   Jarque-Bera (JB):                3.703\n",
      "Skew:                           0.010   Prob(JB):                        0.157\n",
      "Kurtosis:                       1.510   Cond. No.                         2.62\n",
      "==============================================================================\n",
      "\n",
      "Warnings:\n",
      "[1] Standard Errors assume that the covariance matrix of the errors is correctly specified.\n"
     ]
    }
   ],
   "source": [
    "model = ols(\"VIQ ~ Gender + 1\", data)\n",
    "modelfit = model.fit()\n",
    "print(modelfit.summary())"
   ]
  },
  {
   "cell_type": "code",
   "execution_count": 28,
   "metadata": {
    "slideshow": {
     "slide_type": "subslide"
    }
   },
   "outputs": [
    {
     "data": {
      "text/plain": [
       "['Intercept', 'Gender[T.Male]']"
      ]
     },
     "execution_count": 28,
     "metadata": {},
     "output_type": "execute_result"
    }
   ],
   "source": [
    "model.exog_names"
   ]
  },
  {
   "cell_type": "markdown",
   "metadata": {
    "slideshow": {
     "slide_type": "subslide"
    }
   },
   "source": [
    "**Forcing categorical**:\n",
    "\n",
    "the 'Gender' is automatically detected as a\n",
    "categorical variable, and thus each of its different values are\n",
    "treated as different entities.\n",
    "\n",
    "An integer column can be forced to be treated as categorical using:\n",
    "\n",
    "    model = ols('VIQ ~ C(Gender)', data).fit()\n",
    "\n",
    "\n",
    "**Intercept**:\n",
    "\n",
    "We can remove the intercept using `- 1` in the formula,\n",
    "or force the use of an intercept using `+ 1`.\n",
    "\n",
    "\n",
    "By default, statsmodels treats a categorical variable with K possible\n",
    "values as K-1 'dummy' boolean variables (the last level being\n",
    "absorbed into the intercept term).  This is almost always a good\n",
    "default choice - however, it is possible to specify different\n",
    "encodings for categorical variables\n",
    "(http://statsmodels.sourceforge.net/devel/contrasts.html).\n",
    "\n"
   ]
  },
  {
   "cell_type": "markdown",
   "metadata": {
    "slideshow": {
     "slide_type": "subslide"
    }
   },
   "source": [
    "**Link to t-tests between different FSIQ and PIQ**"
   ]
  },
  {
   "cell_type": "code",
   "execution_count": 29,
   "metadata": {
    "slideshow": {
     "slide_type": "subslide"
    }
   },
   "outputs": [],
   "source": [
    "# To compare different types of IQ, we need to create a \"long-form\"\n",
    "# table, listing IQs, where the type of IQ is indicated by a\n",
    "# categorical variable::\n",
    "\n",
    "data_fisq = pandas.DataFrame({'iq': data['FSIQ'], 'type': 'fsiq'})\n",
    "data_piq = pandas.DataFrame({'iq': data['PIQ'], 'type': 'piq'})\n",
    "data_long = pandas.concat((data_fisq, data_piq))\n",
    "\n",
    "# print(data_long)"
   ]
  },
  {
   "cell_type": "code",
   "execution_count": 30,
   "metadata": {
    "slideshow": {
     "slide_type": "subslide"
    }
   },
   "outputs": [
    {
     "name": "stdout",
     "output_type": "stream",
     "text": [
      "                            OLS Regression Results                            \n",
      "==============================================================================\n",
      "Dep. Variable:                     iq   R-squared:                       0.003\n",
      "Model:                            OLS   Adj. R-squared:                 -0.010\n",
      "Method:                 Least Squares   F-statistic:                    0.2168\n",
      "Date:                Tue, 12 May 2020   Prob (F-statistic):              0.643\n",
      "Time:                        19:52:14   Log-Likelihood:                -364.35\n",
      "No. Observations:                  80   AIC:                             732.7\n",
      "Df Residuals:                      78   BIC:                             737.5\n",
      "Df Model:                           1                                         \n",
      "Covariance Type:            nonrobust                                         \n",
      "===============================================================================\n",
      "                  coef    std err          t      P>|t|      [0.025      0.975]\n",
      "-------------------------------------------------------------------------------\n",
      "Intercept     113.4500      3.683     30.807      0.000     106.119     120.781\n",
      "type[T.piq]    -2.4250      5.208     -0.466      0.643     -12.793       7.943\n",
      "==============================================================================\n",
      "Omnibus:                      164.598   Durbin-Watson:                   1.531\n",
      "Prob(Omnibus):                  0.000   Jarque-Bera (JB):                8.062\n",
      "Skew:                          -0.110   Prob(JB):                       0.0178\n",
      "Kurtosis:                       1.461   Cond. No.                         2.62\n",
      "==============================================================================\n",
      "\n",
      "Warnings:\n",
      "[1] Standard Errors assume that the covariance matrix of the errors is correctly specified.\n"
     ]
    }
   ],
   "source": [
    "model = ols(\"iq ~ type\", data_long).fit()\n",
    "print(model.summary())"
   ]
  },
  {
   "cell_type": "code",
   "execution_count": 31,
   "metadata": {
    "slideshow": {
     "slide_type": "subslide"
    }
   },
   "outputs": [
    {
     "data": {
      "text/plain": [
       "Ttest_indResult(statistic=-0.465637596380964, pvalue=0.6427725009414841)"
      ]
     },
     "execution_count": 31,
     "metadata": {},
     "output_type": "execute_result"
    }
   ],
   "source": [
    "# same values \n",
    "stats.ttest_ind(data['PIQ'], data['FSIQ']) "
   ]
  },
  {
   "cell_type": "markdown",
   "metadata": {
    "slideshow": {
     "slide_type": "subslide"
    }
   },
   "source": [
    "\n",
    " Going back to the brain size + IQ data, test if the VIQ of male and\n",
    " female are different after removing the effect of brain size, height\n",
    "   and weight.\n",
    "```"
   ]
  },
  {
   "cell_type": "code",
   "execution_count": 32,
   "metadata": {
    "slideshow": {
     "slide_type": "fragment"
    }
   },
   "outputs": [
    {
     "data": {
      "text/plain": [
       "Index(['Unnamed: 0', 'Gender', 'FSIQ', 'VIQ', 'PIQ', 'Weight', 'Height',\n",
       "       'MRI_Count'],\n",
       "      dtype='object')"
      ]
     },
     "execution_count": 32,
     "metadata": {},
     "output_type": "execute_result"
    }
   ],
   "source": [
    "data = pandas.read_csv(csvfile, sep=';', na_values=\".\")\n",
    "data.columns"
   ]
  },
  {
   "cell_type": "code",
   "execution_count": 33,
   "metadata": {
    "slideshow": {
     "slide_type": "subslide"
    }
   },
   "outputs": [
    {
     "data": {
      "text/html": [
       "<table class=\"simpletable\">\n",
       "<caption>OLS Regression Results</caption>\n",
       "<tr>\n",
       "  <th>Dep. Variable:</th>           <td>VIQ</td>       <th>  R-squared:         </th> <td>   0.249</td>\n",
       "</tr>\n",
       "<tr>\n",
       "  <th>Model:</th>                   <td>OLS</td>       <th>  Adj. R-squared:    </th> <td>   0.158</td>\n",
       "</tr>\n",
       "<tr>\n",
       "  <th>Method:</th>             <td>Least Squares</td>  <th>  F-statistic:       </th> <td>   2.733</td>\n",
       "</tr>\n",
       "<tr>\n",
       "  <th>Date:</th>             <td>Tue, 12 May 2020</td> <th>  Prob (F-statistic):</th>  <td>0.0455</td> \n",
       "</tr>\n",
       "<tr>\n",
       "  <th>Time:</th>                 <td>19:52:15</td>     <th>  Log-Likelihood:    </th> <td> -167.03</td>\n",
       "</tr>\n",
       "<tr>\n",
       "  <th>No. Observations:</th>      <td>    38</td>      <th>  AIC:               </th> <td>   344.1</td>\n",
       "</tr>\n",
       "<tr>\n",
       "  <th>Df Residuals:</th>          <td>    33</td>      <th>  BIC:               </th> <td>   352.2</td>\n",
       "</tr>\n",
       "<tr>\n",
       "  <th>Df Model:</th>              <td>     4</td>      <th>                     </th>     <td> </td>   \n",
       "</tr>\n",
       "<tr>\n",
       "  <th>Covariance Type:</th>      <td>nonrobust</td>    <th>                     </th>     <td> </td>   \n",
       "</tr>\n",
       "</table>\n",
       "<table class=\"simpletable\">\n",
       "<tr>\n",
       "         <td></td>           <th>coef</th>     <th>std err</th>      <th>t</th>      <th>P>|t|</th>  <th>[0.025</th>    <th>0.975]</th>  \n",
       "</tr>\n",
       "<tr>\n",
       "  <th>Intercept</th>      <td>  169.7719</td> <td>   90.054</td> <td>    1.885</td> <td> 0.068</td> <td>  -13.443</td> <td>  352.987</td>\n",
       "</tr>\n",
       "<tr>\n",
       "  <th>Gender[T.Male]</th> <td>   10.1579</td> <td>   10.891</td> <td>    0.933</td> <td> 0.358</td> <td>  -12.001</td> <td>   32.317</td>\n",
       "</tr>\n",
       "<tr>\n",
       "  <th>Weight</th>         <td>   -0.1427</td> <td>    0.215</td> <td>   -0.665</td> <td> 0.511</td> <td>   -0.579</td> <td>    0.294</td>\n",
       "</tr>\n",
       "<tr>\n",
       "  <th>Height</th>         <td>   -2.7337</td> <td>    1.410</td> <td>   -1.938</td> <td> 0.061</td> <td>   -5.603</td> <td>    0.136</td>\n",
       "</tr>\n",
       "<tr>\n",
       "  <th>MRI_Count</th>      <td>    0.0002</td> <td> 6.48e-05</td> <td>    2.489</td> <td> 0.018</td> <td> 2.94e-05</td> <td>    0.000</td>\n",
       "</tr>\n",
       "</table>\n",
       "<table class=\"simpletable\">\n",
       "<tr>\n",
       "  <th>Omnibus:</th>       <td> 5.002</td> <th>  Durbin-Watson:     </th> <td>   2.272</td>\n",
       "</tr>\n",
       "<tr>\n",
       "  <th>Prob(Omnibus):</th> <td> 0.082</td> <th>  Jarque-Bera (JB):  </th> <td>   1.892</td>\n",
       "</tr>\n",
       "<tr>\n",
       "  <th>Skew:</th>          <td>-0.066</td> <th>  Prob(JB):          </th> <td>   0.388</td>\n",
       "</tr>\n",
       "<tr>\n",
       "  <th>Kurtosis:</th>      <td> 1.915</td> <th>  Cond. No.          </th> <td>2.41e+07</td>\n",
       "</tr>\n",
       "</table>"
      ],
      "text/plain": [
       "<class 'statsmodels.iolib.summary.Summary'>\n",
       "\"\"\"\n",
       "                            OLS Regression Results                            \n",
       "==============================================================================\n",
       "Dep. Variable:                    VIQ   R-squared:                       0.249\n",
       "Model:                            OLS   Adj. R-squared:                  0.158\n",
       "Method:                 Least Squares   F-statistic:                     2.733\n",
       "Date:                Tue, 12 May 2020   Prob (F-statistic):             0.0455\n",
       "Time:                        19:52:15   Log-Likelihood:                -167.03\n",
       "No. Observations:                  38   AIC:                             344.1\n",
       "Df Residuals:                      33   BIC:                             352.2\n",
       "Df Model:                           4                                         \n",
       "Covariance Type:            nonrobust                                         \n",
       "==================================================================================\n",
       "                     coef    std err          t      P>|t|      [0.025      0.975]\n",
       "----------------------------------------------------------------------------------\n",
       "Intercept        169.7719     90.054      1.885      0.068     -13.443     352.987\n",
       "Gender[T.Male]    10.1579     10.891      0.933      0.358     -12.001      32.317\n",
       "Weight            -0.1427      0.215     -0.665      0.511      -0.579       0.294\n",
       "Height            -2.7337      1.410     -1.938      0.061      -5.603       0.136\n",
       "MRI_Count          0.0002   6.48e-05      2.489      0.018    2.94e-05       0.000\n",
       "==============================================================================\n",
       "Omnibus:                        5.002   Durbin-Watson:                   2.272\n",
       "Prob(Omnibus):                  0.082   Jarque-Bera (JB):                1.892\n",
       "Skew:                          -0.066   Prob(JB):                        0.388\n",
       "Kurtosis:                       1.915   Cond. No.                     2.41e+07\n",
       "==============================================================================\n",
       "\n",
       "Warnings:\n",
       "[1] Standard Errors assume that the covariance matrix of the errors is correctly specified.\n",
       "[2] The condition number is large, 2.41e+07. This might indicate that there are\n",
       "strong multicollinearity or other numerical problems.\n",
       "\"\"\""
      ]
     },
     "execution_count": 33,
     "metadata": {},
     "output_type": "execute_result"
    }
   ],
   "source": [
    "modelfit = ols(\"VIQ ~ Weight + Height + MRI_Count + Gender\", data).fit()\n",
    "modelfit.summary()"
   ]
  },
  {
   "cell_type": "code",
   "execution_count": 34,
   "metadata": {
    "slideshow": {
     "slide_type": "subslide"
    }
   },
   "outputs": [
    {
     "data": {
      "text/html": [
       "<table class=\"simpletable\">\n",
       "<caption>OLS Regression Results</caption>\n",
       "<tr>\n",
       "  <th>Dep. Variable:</th>           <td>VIQ</td>       <th>  R-squared:         </th> <td>   0.253</td>\n",
       "</tr>\n",
       "<tr>\n",
       "  <th>Model:</th>                   <td>OLS</td>       <th>  Adj. R-squared:    </th> <td>   0.136</td>\n",
       "</tr>\n",
       "<tr>\n",
       "  <th>Method:</th>             <td>Least Squares</td>  <th>  F-statistic:       </th> <td>   2.166</td>\n",
       "</tr>\n",
       "<tr>\n",
       "  <th>Date:</th>             <td>Tue, 12 May 2020</td> <th>  Prob (F-statistic):</th>  <td>0.0827</td> \n",
       "</tr>\n",
       "<tr>\n",
       "  <th>Time:</th>                 <td>19:52:15</td>     <th>  Log-Likelihood:    </th> <td> -166.92</td>\n",
       "</tr>\n",
       "<tr>\n",
       "  <th>No. Observations:</th>      <td>    38</td>      <th>  AIC:               </th> <td>   345.8</td>\n",
       "</tr>\n",
       "<tr>\n",
       "  <th>Df Residuals:</th>          <td>    32</td>      <th>  BIC:               </th> <td>   355.7</td>\n",
       "</tr>\n",
       "<tr>\n",
       "  <th>Df Model:</th>              <td>     5</td>      <th>                     </th>     <td> </td>   \n",
       "</tr>\n",
       "<tr>\n",
       "  <th>Covariance Type:</th>      <td>nonrobust</td>    <th>                     </th>     <td> </td>   \n",
       "</tr>\n",
       "</table>\n",
       "<table class=\"simpletable\">\n",
       "<tr>\n",
       "              <td></td>                <th>coef</th>     <th>std err</th>      <th>t</th>      <th>P>|t|</th>  <th>[0.025</th>    <th>0.975]</th>  \n",
       "</tr>\n",
       "<tr>\n",
       "  <th>Gender[Female]</th>           <td>  198.4123</td> <td>  114.298</td> <td>    1.736</td> <td> 0.092</td> <td>  -34.405</td> <td>  431.230</td>\n",
       "</tr>\n",
       "<tr>\n",
       "  <th>Gender[Male]</th>             <td>  157.0996</td> <td>  113.139</td> <td>    1.389</td> <td> 0.175</td> <td>  -73.358</td> <td>  387.557</td>\n",
       "</tr>\n",
       "<tr>\n",
       "  <th>Weight</th>                   <td>   -0.1110</td> <td>    0.230</td> <td>   -0.482</td> <td> 0.633</td> <td>   -0.580</td> <td>    0.358</td>\n",
       "</tr>\n",
       "<tr>\n",
       "  <th>Height</th>                   <td>   -2.8852</td> <td>    1.474</td> <td>   -1.957</td> <td> 0.059</td> <td>   -5.888</td> <td>    0.117</td>\n",
       "</tr>\n",
       "<tr>\n",
       "  <th>MRI_Count</th>                <td>    0.0001</td> <td> 9.18e-05</td> <td>    1.465</td> <td> 0.153</td> <td>-5.25e-05</td> <td>    0.000</td>\n",
       "</tr>\n",
       "<tr>\n",
       "  <th>MRI_Count:Gender[T.Male]</th> <td> 5.637e-05</td> <td>    0.000</td> <td>    0.416</td> <td> 0.680</td> <td>   -0.000</td> <td>    0.000</td>\n",
       "</tr>\n",
       "</table>\n",
       "<table class=\"simpletable\">\n",
       "<tr>\n",
       "  <th>Omnibus:</th>       <td> 5.161</td> <th>  Durbin-Watson:     </th> <td>   2.315</td>\n",
       "</tr>\n",
       "<tr>\n",
       "  <th>Prob(Omnibus):</th> <td> 0.076</td> <th>  Jarque-Bera (JB):  </th> <td>   1.905</td>\n",
       "</tr>\n",
       "<tr>\n",
       "  <th>Skew:</th>          <td>-0.037</td> <th>  Prob(JB):          </th> <td>   0.386</td>\n",
       "</tr>\n",
       "<tr>\n",
       "  <th>Kurtosis:</th>      <td> 1.906</td> <th>  Cond. No.          </th> <td>4.10e+07</td>\n",
       "</tr>\n",
       "</table>"
      ],
      "text/plain": [
       "<class 'statsmodels.iolib.summary.Summary'>\n",
       "\"\"\"\n",
       "                            OLS Regression Results                            \n",
       "==============================================================================\n",
       "Dep. Variable:                    VIQ   R-squared:                       0.253\n",
       "Model:                            OLS   Adj. R-squared:                  0.136\n",
       "Method:                 Least Squares   F-statistic:                     2.166\n",
       "Date:                Tue, 12 May 2020   Prob (F-statistic):             0.0827\n",
       "Time:                        19:52:15   Log-Likelihood:                -166.92\n",
       "No. Observations:                  38   AIC:                             345.8\n",
       "Df Residuals:                      32   BIC:                             355.7\n",
       "Df Model:                           5                                         \n",
       "Covariance Type:            nonrobust                                         \n",
       "============================================================================================\n",
       "                               coef    std err          t      P>|t|      [0.025      0.975]\n",
       "--------------------------------------------------------------------------------------------\n",
       "Gender[Female]             198.4123    114.298      1.736      0.092     -34.405     431.230\n",
       "Gender[Male]               157.0996    113.139      1.389      0.175     -73.358     387.557\n",
       "Weight                      -0.1110      0.230     -0.482      0.633      -0.580       0.358\n",
       "Height                      -2.8852      1.474     -1.957      0.059      -5.888       0.117\n",
       "MRI_Count                    0.0001   9.18e-05      1.465      0.153   -5.25e-05       0.000\n",
       "MRI_Count:Gender[T.Male]  5.637e-05      0.000      0.416      0.680      -0.000       0.000\n",
       "==============================================================================\n",
       "Omnibus:                        5.161   Durbin-Watson:                   2.315\n",
       "Prob(Omnibus):                  0.076   Jarque-Bera (JB):                1.905\n",
       "Skew:                          -0.037   Prob(JB):                        0.386\n",
       "Kurtosis:                       1.906   Cond. No.                     4.10e+07\n",
       "==============================================================================\n",
       "\n",
       "Warnings:\n",
       "[1] Standard Errors assume that the covariance matrix of the errors is correctly specified.\n",
       "[2] The condition number is large, 4.1e+07. This might indicate that there are\n",
       "strong multicollinearity or other numerical problems.\n",
       "\"\"\""
      ]
     },
     "execution_count": 34,
     "metadata": {},
     "output_type": "execute_result"
    }
   ],
   "source": [
    "modelfit = ols(\"VIQ ~ Weight + Height + MRI_Count*Gender - 1\", data).fit()\n",
    "modelfit.summary()"
   ]
  },
  {
   "cell_type": "code",
   "execution_count": 35,
   "metadata": {
    "slideshow": {
     "slide_type": "subslide"
    }
   },
   "outputs": [
    {
     "name": "stdout",
     "output_type": "stream",
     "text": [
      "<F test: F=array([[0.1105]]), p=0.7417740374529984, df_denom=32, df_num=1>\n",
      "<F test: F=array([[3.2414]]), p=0.05225463463248599, df_denom=32, df_num=2>\n"
     ]
    }
   ],
   "source": [
    "print(modelfit.f_test([1, -1, 0, 0, 0, 0]))\n",
    "print(modelfit.f_test([[0, 0, 1, 0, 0, 0],[0, 0, 0, 1, 0, 0]]))  "
   ]
  },
  {
   "cell_type": "code",
   "execution_count": null,
   "metadata": {},
   "outputs": [],
   "source": []
  },
  {
   "cell_type": "code",
   "execution_count": null,
   "metadata": {},
   "outputs": [],
   "source": []
  }
 ],
 "metadata": {
  "celltoolbar": "Slideshow",
  "jupytext": {
   "encoding": "# -*- coding: utf-8 -*-"
  },
  "kernelspec": {
   "display_name": "Python 3",
   "language": "python",
   "name": "python3"
  },
  "language_info": {
   "codemirror_mode": {
    "name": "ipython",
    "version": 3
   },
   "file_extension": ".py",
   "mimetype": "text/x-python",
   "name": "python",
   "nbconvert_exporter": "python",
   "pygments_lexer": "ipython3",
   "version": "3.6.9"
  },
  "toc": {
   "nav_menu": {},
   "number_sections": true,
   "sideBar": true,
   "skip_h1_title": false,
   "toc_cell": false,
   "toc_position": {
    "height": "584.367px",
    "left": "0px",
    "right": "906.333px",
    "top": "110.633px",
    "width": "86px"
   },
   "toc_section_display": "block",
   "toc_window_display": false
  }
 },
 "nbformat": 4,
 "nbformat_minor": 4
}
